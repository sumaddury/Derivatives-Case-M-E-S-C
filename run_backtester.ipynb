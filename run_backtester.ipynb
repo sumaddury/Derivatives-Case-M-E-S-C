{
 "cells": [
  {
   "cell_type": "code",
   "execution_count": 2,
   "metadata": {},
   "outputs": [],
   "source": [
    "from datetime import datetime\n",
    "from backtester import Backtester\n",
    "from example_strategy import Strategy\n",
    "\n",
    "start = datetime(2024, 1, 1)\n",
    "end = datetime(2024, 3, 30)\n",
    "s = Strategy()\n",
    "b = Backtester(start, end, s)"
   ]
  },
  {
   "cell_type": "code",
   "execution_count": 3,
   "metadata": {},
   "outputs": [
    {
     "name": "stdout",
     "output_type": "stream",
     "text": [
      "2024-01-01 00:00:00 capital: 100000000 portfolio value: 0 total pnl: 100000000 open orders: 0\n",
      "2024-01-02 00:00:00 capital: 492600.8796875045 portfolio value: 99512533.3203125 total pnl: 100005134.2 open orders: 7\n",
      "2024-01-03 00:00:00 capital: 471565.2796875045 portfolio value: 99531718.9203125 total pnl: 100003284.2 open orders: 11\n",
      "2024-01-04 00:00:00 capital: 438939.8796875045 portfolio value: 99562421.3203125 total pnl: 100001361.2 open orders: 15\n",
      "2024-01-05 00:00:00 capital: 362843.5796875045 portfolio value: 99634919.1203125 total pnl: 99997762.7 open orders: 23\n",
      "2024-01-06 00:00:00 capital: 362843.5796875045 portfolio value: 99634919.1203125 total pnl: 99997762.7 open orders: 23\n",
      "2024-01-07 00:00:00 capital: 362843.5796875045 portfolio value: 99634919.1203125 total pnl: 99997762.7 open orders: 23\n",
      "2024-01-08 00:00:00 capital: 246736.07968750448 portfolio value: 99746264.1203125 total pnl: 99993000.2 open orders: 34\n",
      "2024-01-09 00:00:00 capital: 240084.42968750448 portfolio value: 99750980.27031249 total pnl: 99991064.69999999 open orders: 38\n",
      "2024-01-10 00:00:00 capital: 191966.2296875045 portfolio value: 99796757.47031248 total pnl: 99988723.69999999 open orders: 43\n",
      "2024-01-11 00:00:00 capital: 125919.02968750449 portfolio value: 99858602.67031246 total pnl: 99984521.69999997 open orders: 52\n",
      "2024-01-12 00:00:00 capital: 100088.72968750448 portfolio value: 99882517.47031246 total pnl: 99982606.19999997 open orders: 56\n",
      "2024-01-13 00:00:00 capital: 100088.72968750448 portfolio value: 99882517.47031246 total pnl: 99982606.19999997 open orders: 56\n",
      "2024-01-14 00:00:00 capital: 100088.72968750448 portfolio value: 99882517.47031246 total pnl: 99982606.19999997 open orders: 56\n",
      "2024-01-15 00:00:00 capital: 100088.72968750448 portfolio value: 99882517.47031246 total pnl: 99982606.19999997 open orders: 56\n",
      "2024-01-16 00:00:00 capital: 60729.229687504485 portfolio value: 99920193.47031246 total pnl: 99980922.69999997 open orders: 61\n",
      "2024-01-17 00:00:00 capital: 49979.229687504485 portfolio value: 99927837.97031246 total pnl: 99977817.19999997 open orders: 68\n",
      "2024-01-18 00:00:00 capital: 37581.12968750447 portfolio value: 99935068.07031246 total pnl: 99972649.19999996 open orders: 79\n",
      "2024-01-19 00:00:00 capital: 14534927.829687504 portfolio value: 99937228.37031245 total pnl: 114472156.19999996 open orders: 67\n",
      "2024-01-20 00:00:00 capital: 14534927.829687504 portfolio value: 99937228.37031245 total pnl: 114472156.19999996 open orders: 67\n",
      "2024-01-21 00:00:00 capital: 14534927.829687504 portfolio value: 99937228.37031245 total pnl: 114472156.19999996 open orders: 67\n",
      "2024-01-22 00:00:00 capital: 1313846.5714843792 portfolio value: 113154405.02851556 total pnl: 114468251.59999993 open orders: 74\n",
      "2024-01-23 00:00:00 capital: 1287326.621484379 portfolio value: 113178886.97851555 total pnl: 114466213.59999993 open orders: 74\n",
      "2024-01-24 00:00:00 capital: 1240711.521484379 portfolio value: 113222528.07851554 total pnl: 114463239.59999992 open orders: 74\n",
      "2024-01-25 00:00:00 capital: 681077.6410156289 portfolio value: 113779250.65898429 total pnl: 114460328.29999992 open orders: 74\n",
      "2024-01-26 00:00:00 capital: 644884.341015629 portfolio value: 113812679.9589843 total pnl: 114457564.29999992 open orders: 74\n",
      "2024-01-27 00:00:00 capital: 644884.341015629 portfolio value: 113812679.9589843 total pnl: 114457564.29999992 open orders: 74\n",
      "2024-01-28 00:00:00 capital: 644884.341015629 portfolio value: 113812679.9589843 total pnl: 114457564.29999992 open orders: 74\n",
      "2024-01-29 00:00:00 capital: 630329.7410156289 portfolio value: 113825261.05898431 total pnl: 114455590.79999994 open orders: 74\n",
      "2024-01-30 00:00:00 capital: 567664.2410156289 portfolio value: 113885453.05898432 total pnl: 114453117.29999995 open orders: 74\n",
      "2024-01-31 00:00:00 capital: 547181.4410156289 portfolio value: 113904347.35898434 total pnl: 114451528.79999997 open orders: 74\n",
      "2024-02-01 00:00:00 capital: 497218.1410156289 portfolio value: 113951200.65898433 total pnl: 114448418.79999997 open orders: 74\n"
     ]
    },
    {
     "ename": "KeyboardInterrupt",
     "evalue": "",
     "output_type": "error",
     "traceback": [
      "\u001b[1;31m---------------------------------------------------------------------------\u001b[0m",
      "\u001b[1;31mKeyboardInterrupt\u001b[0m                         Traceback (most recent call last)",
      "Cell \u001b[1;32mIn[3], line 1\u001b[0m\n\u001b[1;32m----> 1\u001b[0m \u001b[43mb\u001b[49m\u001b[38;5;241;43m.\u001b[39;49m\u001b[43mcalculate_pnl\u001b[49m\u001b[43m(\u001b[49m\u001b[43m)\u001b[49m\n",
      "File \u001b[1;32mc:\\Users\\EricS\\Documents\\VSCode Projects\\CTCCase\\Derivatives-Case-M-E-S-C\\backtester.py:89\u001b[0m, in \u001b[0;36mBacktester.calculate_pnl\u001b[1;34m(self)\u001b[0m\n\u001b[0;32m     86\u001b[0m order_size: \u001b[38;5;28mfloat\u001b[39m \u001b[38;5;241m=\u001b[39m \u001b[38;5;28mfloat\u001b[39m(row[\u001b[38;5;124m\"\u001b[39m\u001b[38;5;124morder_size\u001b[39m\u001b[38;5;124m\"\u001b[39m])\n\u001b[0;32m     87\u001b[0m strike_price: \u001b[38;5;28mfloat\u001b[39m \u001b[38;5;241m=\u001b[39m option_metadata[\u001b[38;5;241m2\u001b[39m]\n\u001b[1;32m---> 89\u001b[0m matching_row \u001b[38;5;241m=\u001b[39m \u001b[38;5;28mself\u001b[39m\u001b[38;5;241m.\u001b[39moptions[(\u001b[38;5;28;43mself\u001b[39;49m\u001b[38;5;241;43m.\u001b[39;49m\u001b[43moptions\u001b[49m\u001b[43m[\u001b[49m\u001b[38;5;124;43m\"\u001b[39;49m\u001b[38;5;124;43msymbol\u001b[39;49m\u001b[38;5;124;43m\"\u001b[39;49m\u001b[43m]\u001b[49m\u001b[43m \u001b[49m\u001b[38;5;241;43m==\u001b[39;49m\u001b[43m \u001b[49m\u001b[43mrow\u001b[49m\u001b[43m[\u001b[49m\u001b[38;5;124;43m\"\u001b[39;49m\u001b[38;5;124;43moption_symbol\u001b[39;49m\u001b[38;5;124;43m\"\u001b[39;49m\u001b[43m]\u001b[49m) \u001b[38;5;241m&\u001b[39m \n\u001b[0;32m     90\u001b[0m                             (\u001b[38;5;28mself\u001b[39m\u001b[38;5;241m.\u001b[39moptions[\u001b[38;5;124m\"\u001b[39m\u001b[38;5;124mts_recv\u001b[39m\u001b[38;5;124m\"\u001b[39m] \u001b[38;5;241m==\u001b[39m row[\u001b[38;5;124m\"\u001b[39m\u001b[38;5;124mdatetime\u001b[39m\u001b[38;5;124m\"\u001b[39m])]\n\u001b[0;32m     92\u001b[0m \u001b[38;5;28;01mif\u001b[39;00m \u001b[38;5;129;01mnot\u001b[39;00m matching_row\u001b[38;5;241m.\u001b[39mempty:\n\u001b[0;32m     93\u001b[0m   matching_row \u001b[38;5;241m=\u001b[39m matching_row\u001b[38;5;241m.\u001b[39miloc[\u001b[38;5;241m0\u001b[39m]\n",
      "File \u001b[1;32mc:\\Users\\EricS\\anaconda3\\Lib\\site-packages\\pandas\\core\\ops\\common.py:81\u001b[0m, in \u001b[0;36m_unpack_zerodim_and_defer.<locals>.new_method\u001b[1;34m(self, other)\u001b[0m\n\u001b[0;32m     77\u001b[0m             \u001b[38;5;28;01mreturn\u001b[39;00m \u001b[38;5;28mNotImplemented\u001b[39m\n\u001b[0;32m     79\u001b[0m other \u001b[38;5;241m=\u001b[39m item_from_zerodim(other)\n\u001b[1;32m---> 81\u001b[0m \u001b[38;5;28;01mreturn\u001b[39;00m \u001b[43mmethod\u001b[49m\u001b[43m(\u001b[49m\u001b[38;5;28;43mself\u001b[39;49m\u001b[43m,\u001b[49m\u001b[43m \u001b[49m\u001b[43mother\u001b[49m\u001b[43m)\u001b[49m\n",
      "File \u001b[1;32mc:\\Users\\EricS\\anaconda3\\Lib\\site-packages\\pandas\\core\\arraylike.py:40\u001b[0m, in \u001b[0;36mOpsMixin.__eq__\u001b[1;34m(self, other)\u001b[0m\n\u001b[0;32m     38\u001b[0m \u001b[38;5;129m@unpack_zerodim_and_defer\u001b[39m(\u001b[38;5;124m\"\u001b[39m\u001b[38;5;124m__eq__\u001b[39m\u001b[38;5;124m\"\u001b[39m)\n\u001b[0;32m     39\u001b[0m \u001b[38;5;28;01mdef\u001b[39;00m \u001b[38;5;21m__eq__\u001b[39m(\u001b[38;5;28mself\u001b[39m, other):\n\u001b[1;32m---> 40\u001b[0m     \u001b[38;5;28;01mreturn\u001b[39;00m \u001b[38;5;28;43mself\u001b[39;49m\u001b[38;5;241;43m.\u001b[39;49m\u001b[43m_cmp_method\u001b[49m\u001b[43m(\u001b[49m\u001b[43mother\u001b[49m\u001b[43m,\u001b[49m\u001b[43m \u001b[49m\u001b[43moperator\u001b[49m\u001b[38;5;241;43m.\u001b[39;49m\u001b[43meq\u001b[49m\u001b[43m)\u001b[49m\n",
      "File \u001b[1;32mc:\\Users\\EricS\\anaconda3\\Lib\\site-packages\\pandas\\core\\series.py:6096\u001b[0m, in \u001b[0;36mSeries._cmp_method\u001b[1;34m(self, other, op)\u001b[0m\n\u001b[0;32m   6093\u001b[0m rvalues \u001b[38;5;241m=\u001b[39m extract_array(other, extract_numpy\u001b[38;5;241m=\u001b[39m\u001b[38;5;28;01mTrue\u001b[39;00m, extract_range\u001b[38;5;241m=\u001b[39m\u001b[38;5;28;01mTrue\u001b[39;00m)\n\u001b[0;32m   6095\u001b[0m \u001b[38;5;28;01mwith\u001b[39;00m np\u001b[38;5;241m.\u001b[39merrstate(\u001b[38;5;28mall\u001b[39m\u001b[38;5;241m=\u001b[39m\u001b[38;5;124m\"\u001b[39m\u001b[38;5;124mignore\u001b[39m\u001b[38;5;124m\"\u001b[39m):\n\u001b[1;32m-> 6096\u001b[0m     res_values \u001b[38;5;241m=\u001b[39m \u001b[43mops\u001b[49m\u001b[38;5;241;43m.\u001b[39;49m\u001b[43mcomparison_op\u001b[49m\u001b[43m(\u001b[49m\u001b[43mlvalues\u001b[49m\u001b[43m,\u001b[49m\u001b[43m \u001b[49m\u001b[43mrvalues\u001b[49m\u001b[43m,\u001b[49m\u001b[43m \u001b[49m\u001b[43mop\u001b[49m\u001b[43m)\u001b[49m\n\u001b[0;32m   6098\u001b[0m \u001b[38;5;28;01mreturn\u001b[39;00m \u001b[38;5;28mself\u001b[39m\u001b[38;5;241m.\u001b[39m_construct_result(res_values, name\u001b[38;5;241m=\u001b[39mres_name)\n",
      "File \u001b[1;32mc:\\Users\\EricS\\anaconda3\\Lib\\site-packages\\pandas\\core\\ops\\array_ops.py:293\u001b[0m, in \u001b[0;36mcomparison_op\u001b[1;34m(left, right, op)\u001b[0m\n\u001b[0;32m    290\u001b[0m     \u001b[38;5;28;01mreturn\u001b[39;00m invalid_comparison(lvalues, rvalues, op)\n\u001b[0;32m    292\u001b[0m \u001b[38;5;28;01melif\u001b[39;00m is_object_dtype(lvalues\u001b[38;5;241m.\u001b[39mdtype) \u001b[38;5;129;01mor\u001b[39;00m \u001b[38;5;28misinstance\u001b[39m(rvalues, \u001b[38;5;28mstr\u001b[39m):\n\u001b[1;32m--> 293\u001b[0m     res_values \u001b[38;5;241m=\u001b[39m \u001b[43mcomp_method_OBJECT_ARRAY\u001b[49m\u001b[43m(\u001b[49m\u001b[43mop\u001b[49m\u001b[43m,\u001b[49m\u001b[43m \u001b[49m\u001b[43mlvalues\u001b[49m\u001b[43m,\u001b[49m\u001b[43m \u001b[49m\u001b[43mrvalues\u001b[49m\u001b[43m)\u001b[49m\n\u001b[0;32m    295\u001b[0m \u001b[38;5;28;01melse\u001b[39;00m:\n\u001b[0;32m    296\u001b[0m     res_values \u001b[38;5;241m=\u001b[39m _na_arithmetic_op(lvalues, rvalues, op, is_cmp\u001b[38;5;241m=\u001b[39m\u001b[38;5;28;01mTrue\u001b[39;00m)\n",
      "File \u001b[1;32mc:\\Users\\EricS\\anaconda3\\Lib\\site-packages\\pandas\\core\\ops\\array_ops.py:83\u001b[0m, in \u001b[0;36mcomp_method_OBJECT_ARRAY\u001b[1;34m(op, x, y)\u001b[0m\n\u001b[0;32m     81\u001b[0m \u001b[38;5;28;01melse\u001b[39;00m:\n\u001b[0;32m     82\u001b[0m     result \u001b[38;5;241m=\u001b[39m libops\u001b[38;5;241m.\u001b[39mscalar_compare(x\u001b[38;5;241m.\u001b[39mravel(), y, op)\n\u001b[1;32m---> 83\u001b[0m \u001b[38;5;28;01mreturn\u001b[39;00m \u001b[43mresult\u001b[49m\u001b[38;5;241;43m.\u001b[39;49m\u001b[43mreshape\u001b[49m\u001b[43m(\u001b[49m\u001b[43mx\u001b[49m\u001b[38;5;241;43m.\u001b[39;49m\u001b[43mshape\u001b[49m\u001b[43m)\u001b[49m\n",
      "\u001b[1;31mKeyboardInterrupt\u001b[0m: "
     ]
    }
   ],
   "source": [
    "b.calculate_pnl()"
   ]
  },
  {
   "cell_type": "code",
   "execution_count": null,
   "metadata": {},
   "outputs": [],
   "source": [
    "b.plot_pnl()"
   ]
  },
  {
   "cell_type": "code",
   "execution_count": null,
   "metadata": {},
   "outputs": [],
   "source": [
    "b.compute_overall_score()"
   ]
  }
 ],
 "metadata": {
  "kernelspec": {
   "display_name": "base",
   "language": "python",
   "name": "python3"
  },
  "language_info": {
   "codemirror_mode": {
    "name": "ipython",
    "version": 3
   },
   "file_extension": ".py",
   "mimetype": "text/x-python",
   "name": "python",
   "nbconvert_exporter": "python",
   "pygments_lexer": "ipython3",
   "version": "3.11.5"
  }
 },
 "nbformat": 4,
 "nbformat_minor": 2
}
