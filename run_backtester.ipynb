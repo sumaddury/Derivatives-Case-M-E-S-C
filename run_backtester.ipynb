{
 "cells": [
  {
   "cell_type": "code",
   "execution_count": 1,
   "metadata": {},
   "outputs": [],
   "source": [
    "from datetime import datetime\n",
    "from backtester import Backtester\n",
    "\n",
    "start = datetime(2024, 1, 1)\n",
    "end = datetime(2024, 3, 30)"
   ]
  },
  {
   "cell_type": "code",
   "execution_count": 2,
   "metadata": {},
   "outputs": [
    {
     "name": "stdout",
     "output_type": "stream",
     "text": [
      "          date    Open     High      Low    Close\n",
      "28  2024-02-12  5025.7  5048.03  5018.21  5022.38\n",
      "169841   2024-01-18 02:03:04.208603495\n",
      "169507   2024-01-18 02:01:06.333565618\n",
      "166753   2024-01-18 01:40:43.080391075\n",
      "164946   2024-01-18 01:14:10.842152992\n",
      "167317   2024-01-18 01:47:42.058390279\n",
      "Name: datetime, dtype: datetime64[ns]\n",
      "169841    3850.0\n",
      "169507    3865.0\n",
      "166753    3900.0\n",
      "164946    3900.0\n",
      "167317    3900.0\n",
      "Name: strike_price, dtype: float64\n",
      "169841    4780.78\n",
      "169507    4780.78\n",
      "166753    4780.78\n",
      "164946    4780.78\n",
      "167317    4780.78\n",
      "Name: underlying, dtype: float64\n",
      "169841    SPX 20240119P03850000\n",
      "169507    SPX 20240119P03865000\n",
      "166753    SPX 20240119P03900000\n",
      "164946    SPX 20240119P03900000\n",
      "167317    SPX 20240119P03900000\n",
      "Name: symbol, dtype: object\n",
      "169841   -930.78\n",
      "169507   -915.78\n",
      "166753   -880.78\n",
      "164946   -880.78\n",
      "167317   -880.78\n",
      "Name: deviate, dtype: float64\n",
      "169841    0.05\n",
      "169507    0.05\n",
      "166753    0.05\n",
      "164946    0.05\n",
      "167317    0.05\n",
      "Name: bidp, dtype: float64\n",
      "169841    15\n",
      "169507    20\n",
      "166753    10\n",
      "164946    30\n",
      "167317    41\n",
      "Name: bid_sz, dtype: int64\n"
     ]
    }
   ],
   "source": [
    "from Strategy import Strategy\n",
    "\n",
    "s = Strategy(\n",
    "    start,\n",
    "    end,\n",
    "    r\"data/cleaned_options_data.csv\",\n",
    "    r\"data/spx_minute_level_data_jan_mar_2024.csv\",\n",
    ")\n",
    "b = Backtester(start, end, s)"
   ]
  },
  {
   "cell_type": "code",
   "execution_count": null,
   "metadata": {},
   "outputs": [],
   "source": [
    "b.calculate_pnl()"
   ]
  },
  {
   "cell_type": "code",
   "execution_count": null,
   "metadata": {},
   "outputs": [],
   "source": [
    "b.plot_pnl()"
   ]
  },
  {
   "cell_type": "code",
   "execution_count": null,
   "metadata": {},
   "outputs": [],
   "source": [
    "b.compute_overall_score()"
   ]
  },
  {
   "cell_type": "code",
   "execution_count": null,
   "metadata": {},
   "outputs": [],
   "source": []
  }
 ],
 "metadata": {
  "kernelspec": {
   "display_name": "base",
   "language": "python",
   "name": "python3"
  },
  "language_info": {
   "codemirror_mode": {
    "name": "ipython",
    "version": 3
   },
   "file_extension": ".py",
   "mimetype": "text/x-python",
   "name": "python",
   "nbconvert_exporter": "python",
   "pygments_lexer": "ipython3",
   "version": "3.11.5"
  }
 },
 "nbformat": 4,
 "nbformat_minor": 2
}
