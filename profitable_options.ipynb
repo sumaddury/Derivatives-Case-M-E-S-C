{
 "cells": [
  {
   "cell_type": "code",
   "execution_count": 1,
   "metadata": {},
   "outputs": [],
   "source": [
    "import pandas as pd\n",
    "import numpy as np\n",
    "from datetime import datetime\n",
    "\n",
    "pd.set_option(\"display.max_rows\", None)"
   ]
  },
  {
   "cell_type": "code",
   "execution_count": 2,
   "metadata": {},
   "outputs": [],
   "source": [
    "options = pd.read_csv(r\"data\\cleaned_options_data.csv\")\n",
    "\n",
    "# Step 1: Convert the 'ts_recv' column to datetime (this is already optimized)\n",
    "options[\"datetime\"] = pd.to_datetime(options[\"ts_recv\"], format=\"%Y-%m-%dT%H:%M:%S.%fZ\")\n",
    "\n",
    "# Step 2: Vectorized parsing of the 'symbol' column\n",
    "# Split by spaces and extract the relevant parts directly\n",
    "symbol_parts = options[\"symbol\"].str.split(\" \", expand=True)[\n",
    "    3\n",
    "]  # Get the fourth part (index 3)\n",
    "\n",
    "# Extract expiration date (first 6 characters)\n",
    "options[\"exp_date\"] = pd.to_datetime(symbol_parts.str[:6], format=\"%y%m%d\")\n",
    "\n",
    "# Extract action ('C' or 'P', at index 6)\n",
    "options[\"action\"] = symbol_parts.str[6]\n",
    "\n",
    "# Extract strike price (from index 7 onward, divided by 1000)\n",
    "options[\"strike_price\"] = symbol_parts.str[7:].astype(float) / 1000\n",
    "\n",
    "# Step 3: Rename the other columns as needed\n",
    "options = options.rename(\n",
    "    columns={\n",
    "        \"bid_px_00\": \"bidp\",\n",
    "        \"ask_px_00\": \"askp\",\n",
    "        \"bid_sz_00\": \"bid_sz\",\n",
    "        \"ask_sz_00\": \"ask_sz\",\n",
    "    }\n",
    ")\n",
    "options[\"datetime\"] = (\n",
    "    pd.to_datetime(options[\"datetime\"])\n",
    "    .dt.tz_localize(\"UTC\")\n",
    "    .dt.tz_convert(\"US/Eastern\")\n",
    "    .dt.tz_localize(None)\n",
    ")\n",
    "options[\"date\"] = options[\"datetime\"].dt.date"
   ]
  },
  {
   "cell_type": "code",
   "execution_count": 3,
   "metadata": {},
   "outputs": [],
   "source": [
    "underlying = pd.read_csv(r\"data\\spx_minute_level_data_jan_mar_2024.csv\")\n",
    "underlying = underlying.loc[underlying[\"price\"] > 0]\n",
    "underlying[\"date\"] = pd.to_datetime(underlying[\"date\"], format=\"%Y%m%d\")\n",
    "\n",
    "underlying = (\n",
    "    underlying.groupby(\"date\")\n",
    "    .agg(\n",
    "        Open=(\"price\", \"first\"),\n",
    "        High=(\"price\", \"max\"),\n",
    "        Low=(\"price\", \"min\"),\n",
    "        Close=(\"price\", \"last\"),\n",
    "    )\n",
    "    .reset_index()\n",
    ")"
   ]
  },
  {
   "cell_type": "code",
   "execution_count": 4,
   "metadata": {},
   "outputs": [],
   "source": [
    "indices = underlying[\"date\"].searchsorted(options[\"datetime\"])\n",
    "indices = indices.clip(0, len(underlying) - 1)\n",
    "options[\"underlying\"] = underlying[\"Close\"].iloc[indices].values"
   ]
  },
  {
   "cell_type": "code",
   "execution_count": 5,
   "metadata": {},
   "outputs": [],
   "source": [
    "options[\"deviate\"] = abs(options[\"underlying\"] - options[\"strike_price\"])"
   ]
  },
  {
   "cell_type": "code",
   "execution_count": 6,
   "metadata": {},
   "outputs": [],
   "source": [
    "min_exp_date_per_group = options.groupby([\"date\", \"action\"])[\"exp_date\"].transform(\n",
    "    \"min\"\n",
    ")\n",
    "result = options[options[\"exp_date\"] == min_exp_date_per_group]\n",
    "indices = result.groupby([\"date\", \"action\", \"exp_date\"])[\"deviate\"].idxmin()\n",
    "result = result.loc[indices].reset_index(drop=True)"
   ]
  },
  {
   "cell_type": "code",
   "execution_count": 7,
   "metadata": {},
   "outputs": [],
   "source": [
    "indices = underlying[\"date\"].searchsorted(result[\"exp_date\"])\n",
    "indices = indices.clip(0, len(underlying) - 1)\n",
    "exp_underlyings = underlying[\"Close\"].iloc[indices].values"
   ]
  },
  {
   "cell_type": "markdown",
   "metadata": {},
   "source": [
    "Make sure to check for:\n",
    "\n",
    "- Expiration date is before end of interval\n",
    "- Both call and put exist and have same expiration date\n",
    "- Deviations from the underlying is below some threshold\n"
   ]
  },
  {
   "cell_type": "code",
   "execution_count": 8,
   "metadata": {},
   "outputs": [],
   "source": [
    "profits = []\n",
    "for i in range(0, len(result), 2):\n",
    "    ccall = result.iloc[i]  # First row (Call)\n",
    "    cput = result.iloc[i + 1]  # Second row (Put)\n",
    "\n",
    "    # Calculate values based on the given formula\n",
    "    exp_price = exp_underlyings[i]\n",
    "    underlying_cost = ccall[\"askp\"] + cput[\"askp\"]\n",
    "    call_profit = 100 * (exp_price - ccall[\"strike_price\"])\n",
    "    put_profit = 100 * (cput[\"strike_price\"] - exp_price)\n",
    "    overall_profit = max(call_profit, 0) + max(put_profit, 0) - underlying_cost\n",
    "\n",
    "    # Store the calculated profit\n",
    "    profits.append((ccall[\"datetime\"], overall_profit))"
   ]
  },
  {
   "cell_type": "code",
   "execution_count": 9,
   "metadata": {},
   "outputs": [
    {
     "data": {
      "text/plain": [
       "Index(['ts_recv', 'instrument_id', 'bidp', 'askp', 'bid_sz', 'ask_sz',\n",
       "       'symbol', 'datetime', 'exp_date', 'action', 'strike_price', 'date',\n",
       "       'underlying', 'deviate'],\n",
       "      dtype='object')"
      ]
     },
     "execution_count": 9,
     "metadata": {},
     "output_type": "execute_result"
    }
   ],
   "source": [
    "result.columns"
   ]
  },
  {
   "cell_type": "code",
   "execution_count": 18,
   "metadata": {},
   "outputs": [],
   "source": [
    "orders = pd.DataFrame(columns=[\"datetime\", \"option_symbol\", \"action\", \"order_size\"])\n",
    "for i in range(0, len(result), 2):\n",
    "    ccall = result.iloc[i]  # First row (Call)\n",
    "    cput = result.iloc[i + 1]  # Second row (Put)\n",
    "\n",
    "    # IF SOME CONDITION\n",
    "    if ccall[\"exp_date\"] >= datetime(2024, 3, 31):\n",
    "        continue\n",
    "    order_size = min(ccall[\"ask_sz\"], cput[\"ask_sz\"])\n",
    "    new_rows = pd.DataFrame(\n",
    "        [\n",
    "            {\n",
    "                \"datetime\": ccall[\"ts_recv\"],  # ts_recv for the Call option\n",
    "                \"option_symbol\": ccall[\"symbol\"],  # Use the Call option symbol\n",
    "                \"action\": \"B\",  # Action for the Call option\n",
    "                \"order_size\": order_size,  # Minimum ask size\n",
    "            },\n",
    "            {\n",
    "                \"datetime\": cput[\"ts_recv\"],  # ts_recv for the Call option\n",
    "                \"option_symbol\": cput[\"symbol\"],  # Use the Call option symbol\n",
    "                \"action\": \"B\",  # Action for the Call option\n",
    "                \"order_size\": order_size,  # Minimum ask size\n",
    "            },\n",
    "        ]\n",
    "    )\n",
    "    orders = pd.concat(\n",
    "        [orders, new_rows],\n",
    "        ignore_index=True,\n",
    "    )"
   ]
  },
  {
   "cell_type": "markdown",
   "metadata": {},
   "source": [
    "# Backtesting Code\n"
   ]
  },
  {
   "cell_type": "code",
   "execution_count": 19,
   "metadata": {},
   "outputs": [],
   "source": [
    "from datetime import datetime\n",
    "from backtester import Backtester\n",
    "from feed_strategy import Strategy\n",
    "\n",
    "start = datetime(2024, 1, 1)\n",
    "end = datetime(2024, 3, 30)\n",
    "s = Strategy(orders)\n",
    "b = Backtester(start, end, s)"
   ]
  },
  {
   "cell_type": "code",
   "execution_count": 20,
   "metadata": {},
   "outputs": [
    {
     "name": "stdout",
     "output_type": "stream",
     "text": [
      "2024-01-01 00:00:00 capital: 100000000 portfolio value: 0 total pnl: 100000000 open orders: 0\n",
      "2024-01-02 00:00:00 capital: 99990058.0 portfolio value: 9000.0 total pnl: 99999058.0 open orders: 2\n",
      "2024-01-03 00:00:00 capital: 99975559.0 portfolio value: 22560.0 total pnl: 99998119.0 open orders: 4\n",
      "2024-01-04 00:00:00 capital: 99963939.2 portfolio value: 33239.8 total pnl: 99997179.0 open orders: 6\n",
      "2024-01-05 00:00:00 capital: 99958791.2 portfolio value: 37433.8 total pnl: 99996225.0 open orders: 8\n",
      "2024-01-06 00:00:00 capital: 99958791.2 portfolio value: 37433.8 total pnl: 99996225.0 open orders: 8\n",
      "2024-01-07 00:00:00 capital: 99958791.2 portfolio value: 37433.8 total pnl: 99996225.0 open orders: 8\n",
      "2024-01-08 00:00:00 capital: 99944069.2 portfolio value: 51203.8 total pnl: 99995273.0 open orders: 10\n",
      "2024-01-09 00:00:00 capital: 99928579.2 portfolio value: 65735.8 total pnl: 99994315.0 open orders: 12\n",
      "2024-01-10 00:00:00 capital: 99909532.7 portfolio value: 83825.3 total pnl: 99993358.0 open orders: 14\n",
      "2024-01-11 00:00:00 capital: 99903977.2 portfolio value: 88422.8 total pnl: 99992400.0 open orders: 16\n",
      "2024-01-12 00:00:00 capital: 99894114.30000001 portfolio value: 97331.70000000001 total pnl: 99991446.00000001 open orders: 18\n",
      "2024-01-13 00:00:00 capital: 99894114.30000001 portfolio value: 97331.70000000001 total pnl: 99991446.00000001 open orders: 18\n",
      "2024-01-14 00:00:00 capital: 99894114.30000001 portfolio value: 97331.70000000001 total pnl: 99991446.00000001 open orders: 18\n",
      "2024-01-15 00:00:00 capital: 99894114.30000001 portfolio value: 97331.70000000001 total pnl: 99991446.00000001 open orders: 18\n",
      "2024-01-16 00:00:00 capital: 99889707.30000001 portfolio value: 100789.70000000001 total pnl: 99990497.00000001 open orders: 20\n",
      "2024-01-17 00:00:00 capital: 99886149.30000001 portfolio value: 103390.70000000001 total pnl: 99989540.00000001 open orders: 22\n",
      "2024-01-18 00:00:00 capital: 99881503.80000001 portfolio value: 107067.20000000001 total pnl: 99988571.00000001 open orders: 24\n",
      "2024-01-19 00:00:00 capital: 364747976.76875 portfolio value: 0 total pnl: 364747976.76875 open orders: 2\n",
      "2024-01-20 00:00:00 capital: 364747976.76875 portfolio value: 0 total pnl: 364747976.76875 open orders: 2\n",
      "2024-01-21 00:00:00 capital: 364747976.76875 portfolio value: 0 total pnl: 364747976.76875 open orders: 2\n",
      "2024-01-22 00:00:00 capital: 364721795.86875004 portfolio value: 25206.9 total pnl: 364747002.76875 open orders: 4\n",
      "2024-01-23 00:00:00 capital: 364690143.66875 portfolio value: 55884.1 total pnl: 364746027.76875 open orders: 6\n",
      "2024-01-24 00:00:00 capital: 364683859.66875 portfolio value: 61188.1 total pnl: 364745047.76875 open orders: 8\n",
      "2024-01-25 00:00:00 capital: 364673025.66875 portfolio value: 71043.1 total pnl: 364744068.76875 open orders: 10\n",
      "2024-01-26 00:00:00 capital: 364667498.16875 portfolio value: 75583.6 total pnl: 364743081.76875 open orders: 12\n",
      "2024-01-27 00:00:00 capital: 364667498.16875 portfolio value: 75583.6 total pnl: 364743081.76875 open orders: 12\n",
      "2024-01-28 00:00:00 capital: 364667498.16875 portfolio value: 75583.6 total pnl: 364743081.76875 open orders: 12\n",
      "2024-01-29 00:00:00 capital: 364618478.96875 portfolio value: 123616.8 total pnl: 364742095.76875 open orders: 14\n",
      "2024-01-30 00:00:00 capital: 364611847.46875 portfolio value: 129277.8 total pnl: 364741125.26875 open orders: 16\n",
      "2024-01-31 00:00:00 capital: 364589919.86875 portfolio value: 150223.4 total pnl: 364740143.26874995 open orders: 18\n",
      "2024-02-01 00:00:00 capital: 364574809.86875 portfolio value: 164341.4 total pnl: 364739151.26874995 open orders: 20\n",
      "2024-02-02 00:00:00 capital: 364540887.46875 portfolio value: 197274.8 total pnl: 364738162.26875 open orders: 22\n",
      "2024-02-03 00:00:00 capital: 364540887.46875 portfolio value: 197274.8 total pnl: 364738162.26875 open orders: 22\n",
      "2024-02-04 00:00:00 capital: 364540887.46875 portfolio value: 197274.8 total pnl: 364738162.26875 open orders: 22\n",
      "2024-02-05 00:00:00 capital: 364534075.46875 portfolio value: 203094.8 total pnl: 364737170.26875 open orders: 24\n",
      "2024-02-06 00:00:00 capital: 364525892.96875 portfolio value: 210276.8 total pnl: 364736169.76875 open orders: 24\n",
      "2024-02-07 00:00:00 capital: 364521786.96875 portfolio value: 213381.8 total pnl: 364735168.76875 open orders: 24\n",
      "2024-02-08 00:00:00 capital: 364517698.46875 portfolio value: 216464.3 total pnl: 364734162.76875 open orders: 24\n",
      "2024-02-09 00:00:00 capital: 364515461.46875 portfolio value: 217696.3 total pnl: 364733157.76875 open orders: 24\n",
      "2024-02-10 00:00:00 capital: 364515461.46875 portfolio value: 217696.3 total pnl: 364733157.76875 open orders: 24\n",
      "2024-02-11 00:00:00 capital: 364515461.46875 portfolio value: 217696.3 total pnl: 364733157.76875 open orders: 24\n",
      "2024-02-12 00:00:00 capital: 364513162.96875 portfolio value: 219002.8 total pnl: 364732165.76875 open orders: 24\n",
      "2024-02-13 00:00:00 capital: 364511809.76875 portfolio value: 219355.0 total pnl: 364731164.76875 open orders: 24\n",
      "2024-02-14 00:00:00 capital: 364506858.76875 portfolio value: 223299.0 total pnl: 364730157.76875 open orders: 24\n",
      "2024-02-15 00:00:00 capital: 364505161.76875 portfolio value: 223994.0 total pnl: 364729155.76875 open orders: 24\n",
      "2024-02-16 00:00:00 capital: 919931050.3 portfolio value: 0 total pnl: 919931050.3 open orders: 1\n",
      "2024-02-17 00:00:00 capital: 919931050.3 portfolio value: 0 total pnl: 919931050.3 open orders: 1\n",
      "2024-02-18 00:00:00 capital: 919931050.3 portfolio value: 0 total pnl: 919931050.3 open orders: 1\n",
      "2024-02-19 00:00:00 capital: 919931050.3 portfolio value: 0 total pnl: 919931050.3 open orders: 1\n",
      "2024-02-20 00:00:00 capital: 919904307.3 portfolio value: 25746.0 total pnl: 919930053.3 open orders: 3\n",
      "2024-02-21 00:00:00 capital: 919888254.3 portfolio value: 40782.0 total pnl: 919929036.3 open orders: 5\n",
      "2024-02-22 00:00:00 capital: 919882500.9 portfolio value: 45516.4 total pnl: 919928017.3 open orders: 7\n",
      "2024-02-23 00:00:00 capital: 919865137.4 portfolio value: 61864.9 total pnl: 919927002.3 open orders: 9\n",
      "2024-02-24 00:00:00 capital: 919865137.4 portfolio value: 61864.9 total pnl: 919927002.3 open orders: 9\n",
      "2024-02-25 00:00:00 capital: 919865137.4 portfolio value: 61864.9 total pnl: 919927002.3 open orders: 9\n",
      "2024-02-26 00:00:00 capital: 919858624.3 portfolio value: 67361.0 total pnl: 919925985.3 open orders: 11\n",
      "2024-02-27 00:00:00 capital: 919837869.3 portfolio value: 87101.0 total pnl: 919924970.3 open orders: 13\n",
      "2024-02-28 00:00:00 capital: 919817235.3 portfolio value: 106715.0 total pnl: 919923950.3 open orders: 15\n",
      "2024-02-29 00:00:00 capital: 919799053.3 portfolio value: 123869.0 total pnl: 919922922.3 open orders: 17\n",
      "2024-03-01 00:00:00 capital: 919778773.4999999 portfolio value: 143121.80000000002 total pnl: 919921895.2999998 open orders: 19\n",
      "2024-03-02 00:00:00 capital: 919778773.4999999 portfolio value: 143121.80000000002 total pnl: 919921895.2999998 open orders: 19\n",
      "2024-03-03 00:00:00 capital: 919778773.4999999 portfolio value: 143121.80000000002 total pnl: 919921895.2999998 open orders: 19\n",
      "2024-03-04 00:00:00 capital: 919764323.9999999 portfolio value: 156554.30000000002 total pnl: 919920878.2999998 open orders: 21\n",
      "2024-03-05 00:00:00 capital: 919757129.4999999 portfolio value: 162726.80000000002 total pnl: 919919856.2999998 open orders: 23\n",
      "2024-03-06 00:00:00 capital: 919752212.9999999 portfolio value: 166610.30000000002 total pnl: 919918823.2999998 open orders: 24\n",
      "2024-03-07 00:00:00 capital: 919747559.9999999 portfolio value: 170237.30000000002 total pnl: 919917797.2999998 open orders: 24\n",
      "2024-03-08 00:00:00 capital: 919742781.9999999 portfolio value: 173990.30000000002 total pnl: 919916772.2999998 open orders: 24\n",
      "2024-03-09 00:00:00 capital: 919742781.9999999 portfolio value: 173990.30000000002 total pnl: 919916772.2999998 open orders: 24\n",
      "2024-03-10 00:00:00 capital: 919742781.9999999 portfolio value: 173990.30000000002 total pnl: 919916772.2999998 open orders: 24\n",
      "2024-03-11 00:00:00 capital: 919740479.9999999 portfolio value: 175256.30000000002 total pnl: 919915736.2999998 open orders: 24\n",
      "2024-03-12 00:00:00 capital: 919737730.3 portfolio value: 176972.0 total pnl: 919914702.3 open orders: 24\n",
      "2024-03-13 00:00:00 capital: 919735789.3 portfolio value: 177882.0 total pnl: 919913671.3 open orders: 24\n",
      "2024-03-14 00:00:00 capital: 919733438.3 portfolio value: 179209.0 total pnl: 919912647.3 open orders: 24\n",
      "2024-03-15 00:00:00 capital: 1366024495.2335937 portfolio value: 0 total pnl: 1366024495.2335937 open orders: 0\n",
      "2024-03-16 00:00:00 capital: 1366024495.2335937 portfolio value: 0 total pnl: 1366024495.2335937 open orders: 0\n",
      "2024-03-17 00:00:00 capital: 1366024495.2335937 portfolio value: 0 total pnl: 1366024495.2335937 open orders: 0\n",
      "2024-03-18 00:00:00 capital: 1366024495.2335937 portfolio value: 0 total pnl: 1366024495.2335937 open orders: 0\n",
      "2024-03-19 00:00:00 capital: 1366024495.2335937 portfolio value: 0 total pnl: 1366024495.2335937 open orders: 0\n",
      "2024-03-20 00:00:00 capital: 1366024495.2335937 portfolio value: 0 total pnl: 1366024495.2335937 open orders: 0\n",
      "2024-03-21 00:00:00 capital: 1366024495.2335937 portfolio value: 0 total pnl: 1366024495.2335937 open orders: 0\n",
      "2024-03-22 00:00:00 capital: 1366024495.2335937 portfolio value: 0 total pnl: 1366024495.2335937 open orders: 0\n",
      "2024-03-23 00:00:00 capital: 1366024495.2335937 portfolio value: 0 total pnl: 1366024495.2335937 open orders: 0\n",
      "2024-03-24 00:00:00 capital: 1366024495.2335937 portfolio value: 0 total pnl: 1366024495.2335937 open orders: 0\n",
      "2024-03-25 00:00:00 capital: 1366024495.2335937 portfolio value: 0 total pnl: 1366024495.2335937 open orders: 0\n",
      "2024-03-26 00:00:00 capital: 1366024495.2335937 portfolio value: 0 total pnl: 1366024495.2335937 open orders: 0\n",
      "2024-03-27 00:00:00 capital: 1366024495.2335937 portfolio value: 0 total pnl: 1366024495.2335937 open orders: 0\n",
      "2024-03-28 00:00:00 capital: 1366024495.2335937 portfolio value: 0 total pnl: 1366024495.2335937 open orders: 0\n",
      "2024-03-29 00:00:00 capital: 1366024495.2335937 portfolio value: 0 total pnl: 1366024495.2335937 open orders: 0\n",
      "2024-03-30 00:00:00 capital: 1366024495.2335937 portfolio value: 0 total pnl: 1366024495.2335937 open orders: 0\n",
      "after closing open orders: final capital: 1366024495.2335937 final portfolio value: 0 final pnl: 1366024495.2335937\n"
     ]
    }
   ],
   "source": [
    "b.calculate_pnl()"
   ]
  },
  {
   "cell_type": "code",
   "execution_count": 21,
   "metadata": {},
   "outputs": [
    {
     "data": {
      "image/png": "[encoded data removed]",
      "text/plain": [
       "<Figure size 1000x600 with 1 Axes>"
      ]
     },
     "metadata": {},
     "output_type": "display_data"
    }
   ],
   "source": [
    "b.plot_pnl()"
   ]
  },
  {
   "cell_type": "code",
   "execution_count": 22,
   "metadata": {},
   "outputs": [
    {
     "name": "stdout",
     "output_type": "stream",
     "text": [
      "Max Drawdown: 0.000114289999999851\n",
      "Overall Return: 1266.0244952335936%\n",
      "Sharpe Ratio: 0.15941836563686643\n",
      "Overall Score: 1765924.891824669\n"
     ]
    }
   ],
   "source": [
    "b.compute_overall_score()"
   ]
  },
  {
   "cell_type": "code",
   "execution_count": null,
   "metadata": {},
   "outputs": [],
   "source": []
  }
 ],
 "metadata": {
  "kernelspec": {
   "display_name": "base",
   "language": "python",
   "name": "python3"
  },
  "language_info": {
   "codemirror_mode": {
    "name": "ipython",
    "version": 3
   },
   "file_extension": ".py",
   "mimetype": "text/x-python",
   "name": "python",
   "nbconvert_exporter": "python",
   "pygments_lexer": "ipython3",
   "version": "3.11.5"
  }
 },
 "nbformat": 4,
 "nbformat_minor": 2
}
