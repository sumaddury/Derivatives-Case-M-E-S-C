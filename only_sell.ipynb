{
 "cells": [
  {
   "cell_type": "code",
   "execution_count": 1,
   "metadata": {},
   "outputs": [],
   "source": [
    "import pandas as pd\n",
    "import numpy as np\n",
    "from datetime import datetime\n",
    "from scipy.optimize import brentq, minimize\n",
    "from scipy.stats import norm\n",
    "\n",
    "# pd.set_option(\"display.max_rows\", None)"
   ]
  },
  {
   "cell_type": "code",
   "execution_count": 2,
   "metadata": {},
   "outputs": [],
   "source": [
    "options = pd.read_csv(r\"data\\cleaned_options_data.csv\")\n",
    "\n",
    "# Step 1: Convert the 'ts_recv' column to datetime (this is already optimized)\n",
    "options[\"datetime\"] = pd.to_datetime(options[\"ts_recv\"], format=\"%Y-%m-%dT%H:%M:%S.%fZ\")\n",
    "\n",
    "# Step 2: Vectorized parsing of the 'symbol' column\n",
    "# Split by spaces and extract the relevant parts directly\n",
    "symbol_parts = options[\"symbol\"].str.split(\" \", expand=True)[\n",
    "    3\n",
    "]  # Get the fourth part (index 3)\n",
    "\n",
    "# Extract expiration date (first 6 characters)\n",
    "options[\"exp_date\"] = pd.to_datetime(symbol_parts.str[:6], format=\"%y%m%d\")\n",
    "\n",
    "# Extract action ('C' or 'P', at index 6)\n",
    "options[\"action\"] = symbol_parts.str[6]\n",
    "\n",
    "# Extract strike price (from index 7 onward, divided by 1000)\n",
    "options[\"strike_price\"] = symbol_parts.str[7:].astype(float) / 1000\n",
    "\n",
    "# Step 3: Rename the other columns as needed\n",
    "options = options.rename(\n",
    "    columns={\n",
    "        \"bid_px_00\": \"bidp\",\n",
    "        \"ask_px_00\": \"askp\",\n",
    "        \"bid_sz_00\": \"bid_sz\",\n",
    "        \"ask_sz_00\": \"ask_sz\",\n",
    "    }\n",
    ")\n",
    "options[\"datetime\"] = (\n",
    "    pd.to_datetime(options[\"datetime\"])\n",
    "    .dt.tz_localize(\"UTC\")\n",
    "    .dt.tz_convert(\"US/Eastern\")\n",
    "    .dt.tz_localize(None)\n",
    ")\n",
    "options[\"date\"] = options[\"datetime\"].dt.date\n",
    "\n",
    "# Calculate 'till_exp' (time to expiration in years)\n",
    "options[\"till_exp\"] = (options[\"exp_date\"] - options[\"datetime\"]).dt.days / 365.0\n",
    "\n",
    "# Calculate 'fair_value' as the average of bid and ask price\n",
    "options[\"fair_value\"] = (options[\"bidp\"] + options[\"askp\"]) / 2.0"
   ]
  },
  {
   "cell_type": "code",
   "execution_count": 3,
   "metadata": {},
   "outputs": [],
   "source": [
    "underlying = pd.read_csv(r\"data\\spx_minute_level_data_jan_mar_2024.csv\")\n",
    "underlying = underlying.loc[underlying[\"price\"] > 0]\n",
    "underlying[\"date\"] = pd.to_datetime(underlying[\"date\"], format=\"%Y%m%d\")\n",
    "\n",
    "underlying = (\n",
    "    underlying.groupby(\"date\")\n",
    "    .agg(\n",
    "        Open=(\"price\", \"first\"),\n",
    "        High=(\"price\", \"max\"),\n",
    "        Low=(\"price\", \"min\"),\n",
    "        Close=(\"price\", \"last\"),\n",
    "    )\n",
    "    .reset_index()\n",
    ")"
   ]
  },
  {
   "cell_type": "code",
   "execution_count": 4,
   "metadata": {},
   "outputs": [],
   "source": [
    "indices = underlying[\"date\"].searchsorted(options[\"datetime\"])\n",
    "indices = indices.clip(0, len(underlying) - 1)\n",
    "options[\"underlying\"] = underlying[\"Close\"].iloc[indices].values"
   ]
  },
  {
   "cell_type": "code",
   "execution_count": 5,
   "metadata": {},
   "outputs": [],
   "source": [
    "# For calls, I want difference to be as high as possible\n",
    "# For puts, I want difference to be as negative as possible\n",
    "options[\"deviate\"] = options[\"underlying\"] - options[\"strike_price\"]\n",
    "\n",
    "# Make options[\"deviate\"] negative for calls\n",
    "options.loc[options[\"action\"] == \"C\", \"deviate\"] *= -1"
   ]
  },
  {
   "cell_type": "code",
   "execution_count": 6,
   "metadata": {},
   "outputs": [],
   "source": [
    "min_exp_date_per_group = options.groupby([\"date\", \"action\"])[\"exp_date\"].transform(\n",
    "    \"min\"\n",
    ")\n",
    "result = options[options[\"exp_date\"] == min_exp_date_per_group]\n",
    "indices = result.groupby([\"date\", \"action\", \"exp_date\"])[\"deviate\"].idxmin()\n",
    "result = result.loc[indices].reset_index(drop=True)"
   ]
  },
  {
   "cell_type": "code",
   "execution_count": 7,
   "metadata": {},
   "outputs": [],
   "source": [
    "indices = underlying[\"date\"].searchsorted(result[\"exp_date\"])\n",
    "indices = indices.clip(0, len(underlying) - 1)\n",
    "exp_underlyings = underlying[\"Close\"].iloc[indices].values"
   ]
  },
  {
   "cell_type": "markdown",
   "metadata": {},
   "source": [
    "TODO Make sure to check for:\n",
    "\n",
    "- Expiration date is before end of interval\n",
    "- Both call and put exist and have same expiration date\n",
    "- Deviations from the underlying is below some threshold\n"
   ]
  },
  {
   "cell_type": "code",
   "execution_count": 8,
   "metadata": {},
   "outputs": [],
   "source": [
    "profits = []\n",
    "for i in range(0, len(result), 2):\n",
    "    ccall = result.iloc[i]  # First row (Call)\n",
    "    cput = result.iloc[i + 1]  # Second row (Put)\n",
    "\n",
    "    # Calculate values based on the given formula\n",
    "    exp_price = exp_underlyings[i]\n",
    "    underlying_cost = ccall[\"askp\"] + cput[\"askp\"]\n",
    "    call_profit = 100 * (exp_price - ccall[\"strike_price\"])\n",
    "    put_profit = 100 * (cput[\"strike_price\"] - exp_price)\n",
    "    overall_profit = max(call_profit, 0) + max(put_profit, 0) - underlying_cost\n",
    "\n",
    "    # Store the calculated profit\n",
    "    profits.append((ccall[\"datetime\"], overall_profit))"
   ]
  },
  {
   "cell_type": "code",
   "execution_count": 9,
   "metadata": {},
   "outputs": [
    {
     "data": {
      "text/plain": [
       "Index(['ts_recv', 'instrument_id', 'bidp', 'askp', 'bid_sz', 'ask_sz',\n",
       "       'symbol', 'datetime', 'exp_date', 'action', 'strike_price', 'date',\n",
       "       'till_exp', 'fair_value', 'underlying', 'deviate'],\n",
       "      dtype='object')"
      ]
     },
     "execution_count": 9,
     "metadata": {},
     "output_type": "execute_result"
    }
   ],
   "source": [
    "result.columns"
   ]
  },
  {
   "cell_type": "code",
   "execution_count": 13,
   "metadata": {},
   "outputs": [],
   "source": [
    "orders = pd.DataFrame(columns=[\"datetime\", \"option_symbol\", \"action\", \"order_size\"])\n",
    "for i in range(0, len(result), 2):\n",
    "    ccall = result.iloc[i]  # First row (Call)\n",
    "    cput = result.iloc[i + 1]  # Second row (Put)\n",
    "\n",
    "    # IF SOME CONDITION\n",
    "    if (\n",
    "        (ccall[\"exp_date\"] >= datetime(2024, 3, 31))\n",
    "        or (max(ccall[\"deviate\"], cput[\"deviate\"]) > 3.0)\n",
    "        or (ccall[\"exp_date\"] != cput[\"exp_date\"])\n",
    "    ):\n",
    "        continue\n",
    "    order_size = min(ccall[\"bid_sz\"], cput[\"bid_sz\"])\n",
    "    new_rows = pd.DataFrame(\n",
    "        [\n",
    "            {\n",
    "                \"datetime\": ccall[\"ts_recv\"],  # ts_recv for the Call option\n",
    "                \"option_symbol\": ccall[\"symbol\"],  # Use the Call option symbol\n",
    "                \"action\": \"S\",  # Action for the Call option\n",
    "                \"order_size\": order_size,  # Minimum ask size\n",
    "            },\n",
    "            {\n",
    "                \"datetime\": cput[\"ts_recv\"],  # ts_recv for the Call option\n",
    "                \"option_symbol\": cput[\"symbol\"],  # Use the Call option symbol\n",
    "                \"action\": \"S\",  # Action for the Call option\n",
    "                \"order_size\": order_size,  # Minimum ask size\n",
    "            },\n",
    "        ]\n",
    "    )\n",
    "    orders = pd.concat(\n",
    "        [orders, new_rows],\n",
    "        ignore_index=True,\n",
    "    )"
   ]
  },
  {
   "cell_type": "markdown",
   "metadata": {},
   "source": [
    "# Backtesting Code\n"
   ]
  },
  {
   "cell_type": "code",
   "execution_count": 14,
   "metadata": {},
   "outputs": [],
   "source": [
    "from datetime import datetime\n",
    "from backtester import Backtester\n",
    "from feed_strategy import Strategy\n",
    "\n",
    "start = datetime(2024, 1, 1)\n",
    "end = datetime(2024, 3, 30)\n",
    "s = Strategy(orders)\n",
    "b = Backtester(start, end, s)"
   ]
  },
  {
   "cell_type": "code",
   "execution_count": 15,
   "metadata": {},
   "outputs": [
    {
     "name": "stdout",
     "output_type": "stream",
     "text": [
      "2024-01-01 00:00:00 capital: 100000000 portfolio value: 0 total pnl: 100000000 open orders: 0\n",
      "2024-01-02 00:00:00 capital: 60409131.271874994 portfolio value: 39841536.328125 total pnl: 100250667.6 open orders: 2\n",
      "2024-01-03 00:00:00 capital: 22079948.972656243 portfolio value: 78415565.52734375 total pnl: 100495514.5 open orders: 4\n",
      "2024-01-04 00:00:00 capital: 1643676.8132812418 portfolio value: 99050246.38671875 total pnl: 100693923.19999999 open orders: 5\n",
      "2024-01-05 00:00:00 capital: 1643676.8132812418 portfolio value: 99050246.38671875 total pnl: 100693923.19999999 open orders: 5\n",
      "2024-01-06 00:00:00 capital: 1643676.8132812418 portfolio value: 99050246.38671875 total pnl: 100693923.19999999 open orders: 5\n",
      "2024-01-07 00:00:00 capital: 1643676.8132812418 portfolio value: 99050246.38671875 total pnl: 100693923.19999999 open orders: 5\n",
      "2024-01-08 00:00:00 capital: 1643676.8132812418 portfolio value: 99050246.38671875 total pnl: 100693923.19999999 open orders: 5\n",
      "2024-01-09 00:00:00 capital: 1643676.8132812418 portfolio value: 99050246.38671875 total pnl: 100693923.19999999 open orders: 5\n",
      "2024-01-10 00:00:00 capital: 1643676.8132812418 portfolio value: 99050246.38671875 total pnl: 100693923.19999999 open orders: 5\n",
      "2024-01-11 00:00:00 capital: 1643676.8132812418 portfolio value: 99050246.38671875 total pnl: 100693923.19999999 open orders: 5\n",
      "2024-01-12 00:00:00 capital: 1643676.8132812418 portfolio value: 99050246.38671875 total pnl: 100693923.19999999 open orders: 5\n",
      "2024-01-13 00:00:00 capital: 1643676.8132812418 portfolio value: 99050246.38671875 total pnl: 100693923.19999999 open orders: 5\n",
      "2024-01-14 00:00:00 capital: 1643676.8132812418 portfolio value: 99050246.38671875 total pnl: 100693923.19999999 open orders: 5\n",
      "2024-01-15 00:00:00 capital: 1643676.8132812418 portfolio value: 99050246.38671875 total pnl: 100693923.19999999 open orders: 5\n",
      "2024-01-16 00:00:00 capital: 1643676.8132812418 portfolio value: 99050246.38671875 total pnl: 100693923.19999999 open orders: 5\n",
      "2024-01-17 00:00:00 capital: 1643676.8132812418 portfolio value: 99050246.38671875 total pnl: 100693923.19999999 open orders: 5\n",
      "2024-01-18 00:00:00 capital: 1643676.8132812418 portfolio value: 99050246.38671875 total pnl: 100693923.19999999 open orders: 5\n",
      "2024-01-19 00:00:00 capital: -10608540.423046883 portfolio value: 54000000.0 total pnl: 43391459.57695311 open orders: 0\n",
      "2024-01-20 00:00:00 capital: -10608540.423046883 portfolio value: 54000000.0 total pnl: 43391459.57695311 open orders: 0\n",
      "2024-01-21 00:00:00 capital: -10608540.423046883 portfolio value: 54000000.0 total pnl: 43391459.57695311 open orders: 0\n",
      "2024-01-22 00:00:00 capital: -10608540.423046883 portfolio value: 54000000.0 total pnl: 43391459.57695311 open orders: 0\n",
      "2024-01-23 00:00:00 capital: -10608540.423046883 portfolio value: 54000000.0 total pnl: 43391459.57695311 open orders: 0\n",
      "2024-01-24 00:00:00 capital: -10608540.423046883 portfolio value: 54000000.0 total pnl: 43391459.57695311 open orders: 0\n",
      "2024-01-25 00:00:00 capital: -10608540.423046883 portfolio value: 54000000.0 total pnl: 43391459.57695311 open orders: 0\n",
      "2024-01-26 00:00:00 capital: -10608540.423046883 portfolio value: 54000000.0 total pnl: 43391459.57695311 open orders: 0\n",
      "2024-01-27 00:00:00 capital: -10608540.423046883 portfolio value: 54000000.0 total pnl: 43391459.57695311 open orders: 0\n",
      "2024-01-28 00:00:00 capital: -10608540.423046883 portfolio value: 54000000.0 total pnl: 43391459.57695311 open orders: 0\n",
      "2024-01-29 00:00:00 capital: -10608540.423046883 portfolio value: 54000000.0 total pnl: 43391459.57695311 open orders: 0\n",
      "2024-01-30 00:00:00 capital: -10608540.423046883 portfolio value: 54000000.0 total pnl: 43391459.57695311 open orders: 0\n",
      "2024-01-31 00:00:00 capital: -10608540.423046883 portfolio value: 54000000.0 total pnl: 43391459.57695311 open orders: 0\n",
      "2024-02-01 00:00:00 capital: -10608540.423046883 portfolio value: 54000000.0 total pnl: 43391459.57695311 open orders: 0\n",
      "2024-02-02 00:00:00 capital: -10608540.423046883 portfolio value: 54000000.0 total pnl: 43391459.57695311 open orders: 0\n",
      "2024-02-03 00:00:00 capital: -10608540.423046883 portfolio value: 54000000.0 total pnl: 43391459.57695311 open orders: 0\n",
      "2024-02-04 00:00:00 capital: -10608540.423046883 portfolio value: 54000000.0 total pnl: 43391459.57695311 open orders: 0\n",
      "2024-02-05 00:00:00 capital: -10608540.423046883 portfolio value: 54000000.0 total pnl: 43391459.57695311 open orders: 0\n",
      "2024-02-06 00:00:00 capital: -10608540.423046883 portfolio value: 54000000.0 total pnl: 43391459.57695311 open orders: 0\n",
      "2024-02-07 00:00:00 capital: -10608540.423046883 portfolio value: 54000000.0 total pnl: 43391459.57695311 open orders: 0\n",
      "2024-02-08 00:00:00 capital: -10608540.423046883 portfolio value: 54000000.0 total pnl: 43391459.57695311 open orders: 0\n",
      "2024-02-09 00:00:00 capital: -10608540.423046883 portfolio value: 54000000.0 total pnl: 43391459.57695311 open orders: 0\n",
      "2024-02-10 00:00:00 capital: -10608540.423046883 portfolio value: 54000000.0 total pnl: 43391459.57695311 open orders: 0\n",
      "2024-02-11 00:00:00 capital: -10608540.423046883 portfolio value: 54000000.0 total pnl: 43391459.57695311 open orders: 0\n",
      "2024-02-12 00:00:00 capital: -10608540.423046883 portfolio value: 54000000.0 total pnl: 43391459.57695311 open orders: 0\n",
      "2024-02-13 00:00:00 capital: -10608540.423046883 portfolio value: 54000000.0 total pnl: 43391459.57695311 open orders: 0\n",
      "2024-02-14 00:00:00 capital: -10608540.423046883 portfolio value: 54000000.0 total pnl: 43391459.57695311 open orders: 0\n",
      "2024-02-15 00:00:00 capital: -10608540.423046883 portfolio value: 54000000.0 total pnl: 43391459.57695311 open orders: 0\n",
      "2024-02-16 00:00:00 capital: -10608540.423046883 portfolio value: 54000000.0 total pnl: 43391459.57695311 open orders: 0\n",
      "2024-02-17 00:00:00 capital: -10608540.423046883 portfolio value: 54000000.0 total pnl: 43391459.57695311 open orders: 0\n",
      "2024-02-18 00:00:00 capital: -10608540.423046883 portfolio value: 54000000.0 total pnl: 43391459.57695311 open orders: 0\n",
      "2024-02-19 00:00:00 capital: -10608540.423046883 portfolio value: 54000000.0 total pnl: 43391459.57695311 open orders: 0\n",
      "2024-02-20 00:00:00 capital: -10608540.423046883 portfolio value: 54000000.0 total pnl: 43391459.57695311 open orders: 0\n",
      "2024-02-21 00:00:00 capital: -10608540.423046883 portfolio value: 54000000.0 total pnl: 43391459.57695311 open orders: 0\n",
      "2024-02-22 00:00:00 capital: -10608540.423046883 portfolio value: 54000000.0 total pnl: 43391459.57695311 open orders: 0\n",
      "2024-02-23 00:00:00 capital: -10608540.423046883 portfolio value: 54000000.0 total pnl: 43391459.57695311 open orders: 0\n",
      "2024-02-24 00:00:00 capital: -10608540.423046883 portfolio value: 54000000.0 total pnl: 43391459.57695311 open orders: 0\n",
      "2024-02-25 00:00:00 capital: -10608540.423046883 portfolio value: 54000000.0 total pnl: 43391459.57695311 open orders: 0\n",
      "2024-02-26 00:00:00 capital: -10608540.423046883 portfolio value: 54000000.0 total pnl: 43391459.57695311 open orders: 0\n",
      "2024-02-27 00:00:00 capital: -10608540.423046883 portfolio value: 54000000.0 total pnl: 43391459.57695311 open orders: 0\n",
      "2024-02-28 00:00:00 capital: -10608540.423046883 portfolio value: 54000000.0 total pnl: 43391459.57695311 open orders: 0\n",
      "2024-02-29 00:00:00 capital: -10608540.423046883 portfolio value: 54000000.0 total pnl: 43391459.57695311 open orders: 0\n",
      "2024-03-01 00:00:00 capital: -10608540.423046883 portfolio value: 54000000.0 total pnl: 43391459.57695311 open orders: 0\n",
      "2024-03-02 00:00:00 capital: -10608540.423046883 portfolio value: 54000000.0 total pnl: 43391459.57695311 open orders: 0\n",
      "2024-03-03 00:00:00 capital: -10608540.423046883 portfolio value: 54000000.0 total pnl: 43391459.57695311 open orders: 0\n",
      "2024-03-04 00:00:00 capital: -10608540.423046883 portfolio value: 54000000.0 total pnl: 43391459.57695311 open orders: 0\n",
      "2024-03-05 00:00:00 capital: -10608540.423046883 portfolio value: 54000000.0 total pnl: 43391459.57695311 open orders: 0\n",
      "2024-03-06 00:00:00 capital: -10608540.423046883 portfolio value: 54000000.0 total pnl: 43391459.57695311 open orders: 0\n",
      "2024-03-07 00:00:00 capital: -10608540.423046883 portfolio value: 54000000.0 total pnl: 43391459.57695311 open orders: 0\n",
      "2024-03-08 00:00:00 capital: -10608540.423046883 portfolio value: 54000000.0 total pnl: 43391459.57695311 open orders: 0\n",
      "2024-03-09 00:00:00 capital: -10608540.423046883 portfolio value: 54000000.0 total pnl: 43391459.57695311 open orders: 0\n",
      "2024-03-10 00:00:00 capital: -10608540.423046883 portfolio value: 54000000.0 total pnl: 43391459.57695311 open orders: 0\n",
      "2024-03-11 00:00:00 capital: -10608540.423046883 portfolio value: 54000000.0 total pnl: 43391459.57695311 open orders: 0\n",
      "2024-03-12 00:00:00 capital: -10608540.423046883 portfolio value: 54000000.0 total pnl: 43391459.57695311 open orders: 0\n",
      "2024-03-13 00:00:00 capital: -10608540.423046883 portfolio value: 54000000.0 total pnl: 43391459.57695311 open orders: 0\n",
      "2024-03-14 00:00:00 capital: -10608540.423046883 portfolio value: 54000000.0 total pnl: 43391459.57695311 open orders: 0\n",
      "2024-03-15 00:00:00 capital: -10608540.423046883 portfolio value: 54000000.0 total pnl: 43391459.57695311 open orders: 0\n",
      "2024-03-16 00:00:00 capital: -10608540.423046883 portfolio value: 54000000.0 total pnl: 43391459.57695311 open orders: 0\n",
      "2024-03-17 00:00:00 capital: -10608540.423046883 portfolio value: 54000000.0 total pnl: 43391459.57695311 open orders: 0\n",
      "2024-03-18 00:00:00 capital: -10608540.423046883 portfolio value: 54000000.0 total pnl: 43391459.57695311 open orders: 0\n",
      "2024-03-19 00:00:00 capital: -10608540.423046883 portfolio value: 54000000.0 total pnl: 43391459.57695311 open orders: 0\n",
      "2024-03-20 00:00:00 capital: -10608540.423046883 portfolio value: 54000000.0 total pnl: 43391459.57695311 open orders: 0\n",
      "2024-03-21 00:00:00 capital: -10608540.423046883 portfolio value: 54000000.0 total pnl: 43391459.57695311 open orders: 0\n",
      "2024-03-22 00:00:00 capital: -10608540.423046883 portfolio value: 54000000.0 total pnl: 43391459.57695311 open orders: 0\n",
      "2024-03-23 00:00:00 capital: -10608540.423046883 portfolio value: 54000000.0 total pnl: 43391459.57695311 open orders: 0\n",
      "2024-03-24 00:00:00 capital: -10608540.423046883 portfolio value: 54000000.0 total pnl: 43391459.57695311 open orders: 0\n",
      "2024-03-25 00:00:00 capital: -10608540.423046883 portfolio value: 54000000.0 total pnl: 43391459.57695311 open orders: 0\n",
      "2024-03-26 00:00:00 capital: -10608540.423046883 portfolio value: 54000000.0 total pnl: 43391459.57695311 open orders: 0\n",
      "2024-03-27 00:00:00 capital: -10608540.423046883 portfolio value: 54000000.0 total pnl: 43391459.57695311 open orders: 0\n",
      "2024-03-28 00:00:00 capital: -10608540.423046883 portfolio value: 54000000.0 total pnl: 43391459.57695311 open orders: 0\n",
      "2024-03-29 00:00:00 capital: -10608540.423046883 portfolio value: 54000000.0 total pnl: 43391459.57695311 open orders: 0\n",
      "2024-03-30 00:00:00 capital: -10608540.423046883 portfolio value: 54000000.0 total pnl: 43391459.57695311 open orders: 0\n",
      "after closing open orders: final capital: -10608540.423046883 final portfolio value: 54000000.0 final pnl: 43391459.57695311\n"
     ]
    }
   ],
   "source": [
    "b.calculate_pnl()"
   ]
  },
  {
   "cell_type": "code",
   "execution_count": 16,
   "metadata": {},
   "outputs": [
    {
     "data": {
      "image/png": "[encoded data removed]",
      "text/plain": [
       "<Figure size 1000x600 with 1 Axes>"
      ]
     },
     "metadata": {},
     "output_type": "display_data"
    }
   ],
   "source": [
    "b.plot_pnl()"
   ]
  },
  {
   "cell_type": "code",
   "execution_count": 17,
   "metadata": {},
   "outputs": [
    {
     "name": "stdout",
     "output_type": "stream",
     "text": [
      "Max Drawdown: 0.5690756880058367\n",
      "Overall Return: -56.60854042304688%\n",
      "Sharpe Ratio: -0.10611657081215173\n",
      "Cannot calculate overall score (Max Drawdown or Sharpe Ratio <= 0)\n"
     ]
    }
   ],
   "source": [
    "b.compute_overall_score()"
   ]
  },
  {
   "cell_type": "code",
   "execution_count": null,
   "metadata": {},
   "outputs": [],
   "source": []
  }
 ],
 "metadata": {
  "kernelspec": {
   "display_name": "base",
   "language": "python",
   "name": "python3"
  },
  "language_info": {
   "codemirror_mode": {
    "name": "ipython",
    "version": 3
   },
   "file_extension": ".py",
   "mimetype": "text/x-python",
   "name": "python",
   "nbconvert_exporter": "python",
   "pygments_lexer": "ipython3",
   "version": "3.11.5"
  }
 },
 "nbformat": 4,
 "nbformat_minor": 2
}
